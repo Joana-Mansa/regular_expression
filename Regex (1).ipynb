{
 "cells": [
  {
   "cell_type": "markdown",
   "metadata": {},
   "source": [
    "## Regular Expressions (Regex) in Python"
   ]
  },
  {
   "cell_type": "code",
   "execution_count": 1,
   "metadata": {},
   "outputs": [],
   "source": [
    "# regex basically looks for patterns\n",
    "# and manipulated these patterns in a dataset\n",
    "\n",
    "import re"
   ]
  },
  {
   "cell_type": "markdown",
   "metadata": {},
   "source": [
    "## Special Characters in Regex"
   ]
  },
  {
   "cell_type": "markdown",
   "metadata": {},
   "source": [
    "#### the backslash ( \\ )\n",
    "used to escape special characters."
   ]
  },
  {
   "cell_type": "code",
   "execution_count": 2,
   "metadata": {},
   "outputs": [
    {
     "name": "stdout",
     "output_type": "stream",
     "text": [
      "<re.Match object; span=(0, 1), match='T'>\n"
     ]
    }
   ],
   "source": [
    "s = \"Today.was.good.\"\n",
    "# without using the (\\)\n",
    "match = re.search(r'.', s)\n",
    "print(match)\n"
   ]
  },
  {
   "cell_type": "code",
   "execution_count": 3,
   "metadata": {},
   "outputs": [
    {
     "name": "stdout",
     "output_type": "stream",
     "text": [
      "<re.Match object; span=(5, 6), match='.'>\n"
     ]
    }
   ],
   "source": [
    "s = \"Today.was.good.\"\n",
    "# with using the (\\)\n",
    "match = re.search(r'\\.', s)\n",
    "print(match)\n"
   ]
  },
  {
   "cell_type": "markdown",
   "metadata": {},
   "source": [
    "#### the square bracket\n",
    "represents a set of characters we want to match"
   ]
  },
  {
   "cell_type": "code",
   "execution_count": 4,
   "metadata": {},
   "outputs": [
    {
     "name": "stdout",
     "output_type": "stream",
     "text": [
      "['a', 'a', 'a', 'b', 'a']\n"
     ]
    }
   ],
   "source": [
    "# lists the occurence of the selected alphabets\n",
    "# [abc] here from a-b\n",
    "s = \"when it's all said and done, be happy\"\n",
    "match = re.findall(r'[abc]', s)\n",
    "print(match)"
   ]
  },
  {
   "cell_type": "code",
   "execution_count": 5,
   "metadata": {},
   "outputs": [
    {
     "name": "stdout",
     "output_type": "stream",
     "text": [
      "['a', 'a', 'a', 'b']\n"
     ]
    }
   ],
   "source": [
    "# it is case sensitive and ignores the a in caps\n",
    "s = \"when it's all said and done, be hAppy\"\n",
    "match = re.findall(r'[abc]', s)\n",
    "print(match)"
   ]
  },
  {
   "cell_type": "markdown",
   "metadata": {},
   "source": [
    "#### the caret (^)\n",
    "checks whether a string begins with a character or not"
   ]
  },
  {
   "cell_type": "code",
   "execution_count": 6,
   "metadata": {},
   "outputs": [
    {
     "name": "stdout",
     "output_type": "stream",
     "text": [
      "['gre']\n"
     ]
    }
   ],
   "source": [
    "z = \"greet, grew, grey, grow, \"\n",
    "match= re.findall(r'^gre', z)\n",
    "print(match)"
   ]
  },
  {
   "cell_type": "markdown",
   "metadata": {},
   "source": [
    "## Functions in the Module 're' "
   ]
  },
  {
   "cell_type": "markdown",
   "metadata": {},
   "source": [
    "#  1.  re.search()\n",
    "syntax = re.search(pattern, string)"
   ]
  },
  {
   "cell_type": "code",
   "execution_count": 7,
   "metadata": {},
   "outputs": [
    {
     "data": {
      "text/plain": [
       "<re.Match object; span=(12, 18), match='picked'>"
      ]
     },
     "execution_count": 7,
     "metadata": {},
     "output_type": "execute_result"
    }
   ],
   "source": [
    "# finds the first occurence of the pattern\n",
    "poem = 'Peter Piper picked a peck of pickled peppers; A peck of pickled peppers Peter Piper picked;'\n",
    "re.search('picked', poem)"
   ]
  },
  {
   "cell_type": "markdown",
   "metadata": {},
   "source": [
    "## 2. re.match()\n",
    "\n",
    "syntax = re.match(pattern, string)"
   ]
  },
  {
   "cell_type": "code",
   "execution_count": 8,
   "metadata": {},
   "outputs": [
    {
     "name": "stdout",
     "output_type": "stream",
     "text": [
      "None\n"
     ]
    }
   ],
   "source": [
    "# finds the occurence of the pattern at the start of the text\n",
    "poem = 'Peter Piper picked a peck of pickled peppers; A peck of pickled peppers Peter Piper picked;'\n",
    "z=re.match('picked', poem)\n",
    "print(z)"
   ]
  },
  {
   "cell_type": "markdown",
   "metadata": {},
   "source": [
    "## 3. re.findall()\n",
    "\n",
    "syntax = re.findall(pattern, string)"
   ]
  },
  {
   "cell_type": "code",
   "execution_count": 9,
   "metadata": {},
   "outputs": [
    {
     "data": {
      "text/plain": [
       "['picked', 'picked']"
      ]
     },
     "execution_count": 9,
     "metadata": {},
     "output_type": "execute_result"
    }
   ],
   "source": [
    "# returns a list of all the times the pattern occured\n",
    "poem = 'Peter Piper picked a peck of pickled peppers; A peck of pickled peppers Peter Piper picked;'\n",
    "re.findall('picked', poem)"
   ]
  },
  {
   "cell_type": "markdown",
   "metadata": {},
   "source": [
    "##  4. re.split()\n",
    "\n",
    "syntax re.split(pattern, string)"
   ]
  },
  {
   "cell_type": "code",
   "execution_count": 10,
   "metadata": {},
   "outputs": [
    {
     "data": {
      "text/plain": [
       "['Peter',\n",
       " 'Piper',\n",
       " 'picked',\n",
       " 'a',\n",
       " 'peck',\n",
       " 'of',\n",
       " 'pickled',\n",
       " 'peppers;',\n",
       " 'A',\n",
       " 'peck',\n",
       " 'of',\n",
       " 'pickled',\n",
       " 'peppers',\n",
       " 'Peter',\n",
       " 'Piper',\n",
       " 'picked;']"
      ]
     },
     "execution_count": 10,
     "metadata": {},
     "output_type": "execute_result"
    }
   ],
   "source": [
    "poem = 'Peter Piper picked a peck of pickled peppers; A peck of pickled peppers Peter Piper picked;'\n",
    "\n",
    "# the '\\s' splits on white spaces\n",
    "re.split(r'\\s', poem)"
   ]
  },
  {
   "cell_type": "markdown",
   "metadata": {},
   "source": [
    "## 5. re.sub()\n",
    "\n",
    "syntax = re.sub(pattern, repl, string)\n",
    "simplified syntax = re.sub(old pattern, replacement, string)"
   ]
  },
  {
   "cell_type": "code",
   "execution_count": 11,
   "metadata": {},
   "outputs": [
    {
     "data": {
      "text/plain": [
       "'Peter Piper chewed a peck of pickled peppers; A peck of pickled peppers Peter Piper chewed;'"
      ]
     },
     "execution_count": 11,
     "metadata": {},
     "output_type": "execute_result"
    }
   ],
   "source": [
    "poem = 'Peter Piper picked a peck of pickled peppers; A peck of pickled peppers Peter Piper picked;'\n",
    "re.sub('picked', 'chewed', poem)"
   ]
  },
  {
   "cell_type": "markdown",
   "metadata": {},
   "source": [
    "# Operations to Perfrom Using Regex\n"
   ]
  },
  {
   "cell_type": "markdown",
   "metadata": {},
   "source": [
    "# 1. Finding a word\n",
    "\n"
   ]
  },
  {
   "cell_type": "code",
   "execution_count": 12,
   "metadata": {},
   "outputs": [
    {
     "name": "stdout",
     "output_type": "stream",
     "text": [
      "Self is present here\n"
     ]
    }
   ],
   "source": [
    "if re.search(\"self\", \"Emancipate yourself from mental slavery...screams self-development.\"):\n",
    "    print(\"Self is present here\")"
   ]
  },
  {
   "cell_type": "markdown",
   "metadata": {},
   "source": [
    "## 2. To Generate an iterator\n",
    "Here we find the index of a particular word in the sentence"
   ]
  },
  {
   "cell_type": "code",
   "execution_count": 13,
   "metadata": {},
   "outputs": [
    {
     "name": "stdout",
     "output_type": "stream",
     "text": [
      "Start Index: 25\n",
      "End Index: 34\n"
     ]
    }
   ],
   "source": [
    "s = \"\"\" DataInsight has a large community and support for learners\"\"\"\n",
    "match = re.search(r'community', s)\n",
    "print('Start Index:', match.start())\n",
    "print('End Index:', match.end())"
   ]
  },
  {
   "cell_type": "markdown",
   "metadata": {},
   "source": [
    "In the code example above, the 'r' represents a raw string and not a regular string. The difference between the two is the regular expression would execute special characters like the '.', '\\','*' and a host of others but the raw string ignores those characters. (we will dive deeper into the special characters."
   ]
  },
  {
   "cell_type": "markdown",
   "metadata": {},
   "source": [
    "## 3. Match words with a pattern"
   ]
  },
  {
   "cell_type": "code",
   "execution_count": 14,
   "metadata": {},
   "outputs": [
    {
     "name": "stdout",
     "output_type": "stream",
     "text": [
      "sat\n",
      "hat\n",
      "mat\n",
      "pat\n"
     ]
    }
   ],
   "source": [
    "# [shmp] means we want a word that starts with those alphabets\n",
    "\n",
    "str = \"sat, hat, mat, pat\"\n",
    "allstr = re.findall(\"[shmp]at\", str)\n",
    "for i in allstr:\n",
    "    print(i)"
   ]
  },
  {
   "cell_type": "markdown",
   "metadata": {},
   "source": [
    "## 4. Series of a Range of Characters"
   ]
  },
  {
   "cell_type": "code",
   "execution_count": 15,
   "metadata": {},
   "outputs": [
    {
     "name": "stdout",
     "output_type": "stream",
     "text": [
      "mat\n",
      "pat\n"
     ]
    }
   ],
   "source": [
    "str = \"sat, hat, mat, pat\"\n",
    "\n",
    "# prints words which begin with alphabets between 'm-p'\n",
    "allstr = re.findall(\"[m-p]at\", str)\n",
    "for i in allstr:\n",
    "    print(i)"
   ]
  },
  {
   "cell_type": "markdown",
   "metadata": {},
   "source": [
    "## 5. Replace a String"
   ]
  },
  {
   "cell_type": "code",
   "execution_count": 16,
   "metadata": {},
   "outputs": [
    {
     "name": "stdout",
     "output_type": "stream",
     "text": [
      "A hen, dodo, kiwi cannot fly.\n"
     ]
    }
   ],
   "source": [
    "birds = 'A hen, emu, kiwi cannot fly.'\n",
    "# looks for the bird emu from the string birds\n",
    "match = re.compile('[e]mu')\n",
    "real = match.sub('dodo', birds)\n",
    "print(real)"
   ]
  },
  {
   "cell_type": "markdown",
   "metadata": {},
   "source": [
    "## Applications of Regex\n",
    "1. Extracting emails\n",
    "2. web scrapping\n",
    "3. Data wrangling\n",
    "4. Data cleaning"
   ]
  },
  {
   "cell_type": "markdown",
   "metadata": {},
   "source": [
    "## Extracting E-mails"
   ]
  },
  {
   "cell_type": "code",
   "execution_count": 17,
   "metadata": {},
   "outputs": [
    {
     "data": {
      "text/plain": [
       "['adwumapa27@gmail.comSent',\n",
       " 'owusea15@yahoo.comSubject',\n",
       " 'plemanbee1vent@gmail.combest']"
      ]
     },
     "execution_count": 17,
     "metadata": {},
     "output_type": "execute_result"
    }
   ],
   "source": [
    "## Extracting e-mails\n",
    "mail = \"\"\"From: adwumapa27@gmail.com\\\n",
    "Sent: 16th October, 2021\\\n",
    "To: owusea15@yahoo.com\\\n",
    "Subject: Paper Towel Ventures\\\n",
    "Thank you for choosing us. For bulk purchases, email our Ghanaian correspondent through \\\n",
    "plemanbee1vent@gmail.com\\\n",
    "best,\\\n",
    "Joana :D\"\"\"\n",
    "\n",
    "re.findall(\"[\\w.-]+@[\\w.-]+\", mail)"
   ]
  },
  {
   "cell_type": "markdown",
   "metadata": {},
   "source": [
    "## Data Cleaning\n",
    "\n",
    "using a practice project on DataCamp, The Android App Market on Google Play\n",
    "The data was scraped from here.(https://www.kaggle.com/lava18/google-play-store-apps?select=googleplaystore.csv)\n",
    "After importing the dataset into a pandas dataframe, some of the columns had special characters like $, * etc\n",
    "\n",
    "\n",
    "         Category  Rating  Reviews  Size     Installs  Type Price  \\\n",
    "0  ART_AND_DESIGN     4.1      159  19.0      10,000+  Free     0   \n",
    "1  ART_AND_DESIGN     3.9      967  14.0     500,000+  Free     0   \n",
    "2  ART_AND_DESIGN     4.7    87510   8.7   5,000,000+  Free     0   \n",
    "3  ART_AND_DESIGN     4.5   215644  25.0  50,000,000+  Free     0   \n",
    "4  ART_AND_DESIGN     4.3      967   2.8     100,000+  Free     0 \n",
    "\n",
    "\n",
    "A regex saved the situation"
   ]
  },
  {
   "cell_type": "code",
   "execution_count": null,
   "metadata": {},
   "outputs": [],
   "source": [
    "# List of characters to remove\n",
    "chars_to_remove = ['+', ',', '$']\n",
    "# List of column names to clean\n",
    "cols_to_clean = ['Installs', 'Price']\n",
    "\n",
    "# Loop for each column in cols_to_clean\n",
    "for col in cols_to_clean:\n",
    "    # Loop for each char in chars_to_remove\n",
    "    for char in chars_to_remove:\n",
    "        # Replace the character with an empty string\n",
    "        apps[col] = apps[cols_to_clean].apply(lambda x: x.str.replace(r'\\D', ''))\n",
    "        \n",
    "# Print a summary of the apps dataframe\n",
    "print(apps.head())"
   ]
  },
  {
   "cell_type": "markdown",
   "metadata": {},
   "source": [
    "The output now looks like this:\n",
    "\n",
    "         Category  Rating  Reviews  Size  Installs  Type     Price  \\\n",
    "0  ART_AND_DESIGN     4.1      159  19.0     10000  Free     10000   \n",
    "1  ART_AND_DESIGN     3.9      967  14.0    500000  Free    500000   \n",
    "2  ART_AND_DESIGN     4.7    87510   8.7   5000000  Free   5000000   \n",
    "3  ART_AND_DESIGN     4.5   215644  25.0  50000000  Free  50000000   \n",
    "4  ART_AND_DESIGN     4.3      967   2.8    100000  Free    100000\n",
    "\n",
    "Regex to the rescue."
   ]
  },
  {
   "cell_type": "markdown",
   "metadata": {},
   "source": [
    "For the code, above, the line\n",
    "        apps[col] = apps[cols_to_clean].apply(lambda x: x.str.replace(r'\\D', ''))\n",
    "replaced the non-digits in the colums with an empty space. As explained in the blog, the \\D sections the non-digits in the column.\n",
    "\n",
    "Find the full project, 'The Android App Market on Google Play' on DataCamp.com"
   ]
  },
  {
   "cell_type": "code",
   "execution_count": null,
   "metadata": {},
   "outputs": [],
   "source": []
  }
 ],
 "metadata": {
  "kernelspec": {
   "display_name": "Python 3",
   "language": "python",
   "name": "python3"
  },
  "language_info": {
   "codemirror_mode": {
    "name": "ipython",
    "version": 3
   },
   "file_extension": ".py",
   "mimetype": "text/x-python",
   "name": "python",
   "nbconvert_exporter": "python",
   "pygments_lexer": "ipython3",
   "version": "3.8.5"
  }
 },
 "nbformat": 4,
 "nbformat_minor": 4
}
